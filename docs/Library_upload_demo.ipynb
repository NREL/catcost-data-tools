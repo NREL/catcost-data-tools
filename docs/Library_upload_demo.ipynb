{
 "cells": [
  {
   "cell_type": "code",
   "execution_count": 1,
   "metadata": {},
   "outputs": [
    {
     "data": {
      "text/plain": [
       "'Imports the os module and the Library_upload_master.py script to be used for different library conversion functionalities'"
      ]
     },
     "execution_count": 1,
     "metadata": {},
     "output_type": "execute_result"
    }
   ],
   "source": [
    "import os\n",
    "%run Library_upload_master.py\n",
    "\"Imports the os module and the Library_upload_master.py script to be used for different library conversion functionalities\""
   ]
  },
  {
   "cell_type": "code",
   "execution_count": 2,
   "metadata": {},
   "outputs": [
    {
     "data": {
      "text/plain": [
       "'\\nReads the materials library from the CCM excel file in the excel_path and converts the data to a json format, \\nwriting it to the json file in the json_path. The json file is returned and stored in the materials_json object\\nif the user wants to inspect it without opening the file.\\n'"
      ]
     },
     "execution_count": 2,
     "metadata": {},
     "output_type": "execute_result"
    }
   ],
   "source": [
    "excel_path = 'example_estimate.xlsx'\n",
    "json_path = 'materials_library.v1.json'\n",
    "materials_json = materials_to_json(excel_path,json_path)\n",
    "\"\"\"\n",
    "Reads the materials library from the CCM excel file in the excel_path and converts the data to a json format, \n",
    "writing it to the json file in the json_path. The json file is returned and stored in the materials_json object\n",
    "if the user wants to inspect it without opening the file.\n",
    "\"\"\""
   ]
  },
  {
   "cell_type": "code",
   "execution_count": 3,
   "metadata": {},
   "outputs": [
    {
     "data": {
      "text/plain": [
       "'\\nReads the equipment library from the CCM excel file in the excel_path and converts the data to a json format,\\nwriting it to the json file in the json_path. The json file is returned and stored in the equip_json object\\nif the user wants to inspect it without opening the file\\n'"
      ]
     },
     "execution_count": 3,
     "metadata": {},
     "output_type": "execute_result"
    }
   ],
   "source": [
    "excel_path = 'example_estimate.xlsx'\n",
    "json_path = 'equipment_library.v1.json'\n",
    "equip_json = equip_to_json(excel_path,json_path)\n",
    "\"\"\"\n",
    "Reads the equipment library from the CCM excel file in the excel_path and converts the data to a json format,\n",
    "writing it to the json file in the json_path. The json file is returned and stored in the equip_json object\n",
    "if the user wants to inspect it without opening the file\n",
    "\"\"\""
   ]
  },
  {
   "cell_type": "code",
   "execution_count": 4,
   "metadata": {},
   "outputs": [
    {
     "data": {
      "text/plain": [
       "'\\nReads the spent catalyst library from the CCM excel file in the excel_path and converts the data to a json format,\\nwriting it to the json file in the json_path. The json file is returned and stored in the spent_cat_json object\\nif the user wants to inspect it without opening the file'"
      ]
     },
     "execution_count": 4,
     "metadata": {},
     "output_type": "execute_result"
    }
   ],
   "source": [
    "excel_path = 'example_estimate.xlsx'\n",
    "json_path = 'spent_catalyst_library.v1.json'\n",
    "spent_cat_json = spent_cat_to_json(excel_path,json_path)\n",
    "\"\"\"\n",
    "Reads the spent catalyst library from the CCM excel file in the excel_path and converts the data to a json format,\n",
    "writing it to the json file in the json_path. The json file is returned and stored in the spent_cat_json object\n",
    "if the user wants to inspect it without opening the file\"\"\""
   ]
  },
  {
   "cell_type": "code",
   "execution_count": 5,
   "metadata": {},
   "outputs": [
    {
     "data": {
      "text/plain": [
       "'Reads the estimate from the excel_path and converts it to a json in the json_path. \\nStill under development, ensuring compatibility of estimate json files with the web tool.'"
      ]
     },
     "execution_count": 5,
     "metadata": {},
     "output_type": "execute_result"
    }
   ],
   "source": [
    "excel_path = 'example_estimate.xlsx'\n",
    "json_path = 'example_estimate.v1.json'\n",
    "est_json = estimate_to_json(excel_path, json_path)\n",
    "\"\"\"Reads the estimate from the excel_path and converts it to a json in the json_path. \n",
    "Still under development, ensuring compatibility of estimate json files with the web tool.\"\"\""
   ]
  }
 ],
 "metadata": {
  "kernelspec": {
   "display_name": "Python 3",
   "language": "python",
   "name": "python3"
  },
  "language_info": {
   "codemirror_mode": {
    "name": "ipython",
    "version": 3
   },
   "file_extension": ".py",
   "mimetype": "text/x-python",
   "name": "python",
   "nbconvert_exporter": "python",
   "pygments_lexer": "ipython3",
   "version": "3.5.4"
  }
 },
 "nbformat": 4,
 "nbformat_minor": 2
}
